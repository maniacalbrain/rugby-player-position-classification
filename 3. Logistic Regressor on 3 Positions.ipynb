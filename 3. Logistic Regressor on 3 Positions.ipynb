{
 "cells": [
  {
   "cell_type": "code",
   "execution_count": 1,
   "metadata": {
    "collapsed": false
   },
   "outputs": [],
   "source": [
    "import pandas as pd\n",
    "import numpy as np"
   ]
  },
  {
   "cell_type": "code",
   "execution_count": 2,
   "metadata": {
    "collapsed": false
   },
   "outputs": [
    {
     "name": "stderr",
     "output_type": "stream",
     "text": [
      "C:\\Users\\maniacalbrain\\Anaconda\\lib\\site-packages\\IPython\\kernel\\__main__.py:24: SettingWithCopyWarning: \n",
      "A value is trying to be set on a copy of a slice from a DataFrame\n",
      "\n",
      "See the the caveats in the documentation: http://pandas.pydata.org/pandas-docs/stable/indexing.html#indexing-view-versus-copy\n",
      "C:\\Users\\maniacalbrain\\Anaconda\\lib\\site-packages\\IPython\\kernel\\__main__.py:25: SettingWithCopyWarning: \n",
      "A value is trying to be set on a copy of a slice from a DataFrame\n",
      "\n",
      "See the the caveats in the documentation: http://pandas.pydata.org/pandas-docs/stable/indexing.html#indexing-view-versus-copy\n",
      "C:\\Users\\maniacalbrain\\Anaconda\\lib\\site-packages\\IPython\\kernel\\__main__.py:26: SettingWithCopyWarning: \n",
      "A value is trying to be set on a copy of a slice from a DataFrame\n",
      "\n",
      "See the the caveats in the documentation: http://pandas.pydata.org/pandas-docs/stable/indexing.html#indexing-view-versus-copy\n"
     ]
    },
    {
     "data": {
      "text/html": [
       "<div style=\"max-height:1000px;max-width:1500px;overflow:auto;\">\n",
       "<table border=\"1\" class=\"dataframe\">\n",
       "  <thead>\n",
       "    <tr style=\"text-align: right;\">\n",
       "      <th></th>\n",
       "      <th>Age</th>\n",
       "      <th>Debut</th>\n",
       "      <th>Height</th>\n",
       "      <th>Matches</th>\n",
       "      <th>Name</th>\n",
       "      <th>Points_Scored</th>\n",
       "      <th>Position</th>\n",
       "      <th>Red_Cards</th>\n",
       "      <th>Tries_Scored</th>\n",
       "      <th>Weight</th>\n",
       "      <th>Yellow_Cards</th>\n",
       "      <th>﻿Name</th>\n",
       "      <th>Mass</th>\n",
       "      <th>Target</th>\n",
       "    </tr>\n",
       "  </thead>\n",
       "  <tbody>\n",
       "    <tr>\n",
       "      <th>0</th>\n",
       "      <td>23</td>\n",
       "      <td>17 May 2014</td>\n",
       "      <td>198</td>\n",
       "      <td>20</td>\n",
       "      <td>Matias Alemanno</td>\n",
       "      <td>10</td>\n",
       "      <td>Lock</td>\n",
       "      <td>0</td>\n",
       "      <td>2</td>\n",
       "      <td>112</td>\n",
       "      <td>0</td>\n",
       "      <td>NaN</td>\n",
       "      <td>221.76</td>\n",
       "      <td>0</td>\n",
       "    </tr>\n",
       "    <tr>\n",
       "      <th>1</th>\n",
       "      <td>32</td>\n",
       "      <td>04 Dec 2004</td>\n",
       "      <td>186</td>\n",
       "      <td>65</td>\n",
       "      <td>Marcos Ayerza</td>\n",
       "      <td>5</td>\n",
       "      <td>Prop</td>\n",
       "      <td>0</td>\n",
       "      <td>1</td>\n",
       "      <td>113</td>\n",
       "      <td>1</td>\n",
       "      <td>NaN</td>\n",
       "      <td>210.18</td>\n",
       "      <td>1</td>\n",
       "    </tr>\n",
       "    <tr>\n",
       "      <th>2</th>\n",
       "      <td>30</td>\n",
       "      <td>23 Apr 2005</td>\n",
       "      <td>182</td>\n",
       "      <td>46</td>\n",
       "      <td>Agustín Creevy</td>\n",
       "      <td>10</td>\n",
       "      <td>Hooker</td>\n",
       "      <td>0</td>\n",
       "      <td>2</td>\n",
       "      <td>106</td>\n",
       "      <td>0</td>\n",
       "      <td>NaN</td>\n",
       "      <td>192.92</td>\n",
       "      <td>3</td>\n",
       "    </tr>\n",
       "    <tr>\n",
       "      <th>3</th>\n",
       "      <td>32</td>\n",
       "      <td>08 Nov 2008</td>\n",
       "      <td>190</td>\n",
       "      <td>20</td>\n",
       "      <td>Juan Pablo Orlandi</td>\n",
       "      <td>5</td>\n",
       "      <td>Prop</td>\n",
       "      <td>0</td>\n",
       "      <td>1</td>\n",
       "      <td>119</td>\n",
       "      <td>0</td>\n",
       "      <td>NaN</td>\n",
       "      <td>226.10</td>\n",
       "      <td>1</td>\n",
       "    </tr>\n",
       "    <tr>\n",
       "      <th>4</th>\n",
       "      <td>33</td>\n",
       "      <td>28 Apr 2004</td>\n",
       "      <td>191</td>\n",
       "      <td>71</td>\n",
       "      <td>Juan Martín Fernandez Lobbe</td>\n",
       "      <td>25</td>\n",
       "      <td>Back Row</td>\n",
       "      <td>0</td>\n",
       "      <td>5</td>\n",
       "      <td>106</td>\n",
       "      <td>2</td>\n",
       "      <td>NaN</td>\n",
       "      <td>202.46</td>\n",
       "      <td>3</td>\n",
       "    </tr>\n",
       "  </tbody>\n",
       "</table>\n",
       "</div>"
      ],
      "text/plain": [
       "   Age        Debut  Height  Matches                         Name  \\\n",
       "0   23  17 May 2014     198       20              Matias Alemanno   \n",
       "1   32  04 Dec 2004     186       65                Marcos Ayerza   \n",
       "2   30  23 Apr 2005     182       46               Agustín Creevy   \n",
       "3   32  08 Nov 2008     190       20           Juan Pablo Orlandi   \n",
       "4   33  28 Apr 2004     191       71  Juan Martín Fernandez Lobbe   \n",
       "\n",
       "   Points_Scored  Position  Red_Cards  Tries_Scored  Weight  Yellow_Cards  \\\n",
       "0             10      Lock          0             2     112             0   \n",
       "1              5      Prop          0             1     113             1   \n",
       "2             10    Hooker          0             2     106             0   \n",
       "3              5      Prop          0             1     119             0   \n",
       "4             25  Back Row          0             5     106             2   \n",
       "\n",
       "  ﻿Name    Mass  Target  \n",
       "0   NaN  221.76       0  \n",
       "1   NaN  210.18       1  \n",
       "2   NaN  192.92       3  \n",
       "3   NaN  226.10       1  \n",
       "4   NaN  202.46       3  "
      ]
     },
     "execution_count": 2,
     "metadata": {},
     "output_type": "execute_result"
    }
   ],
   "source": [
    "#Characters in Italian names are causing the apperence of two Name columns (I think).\n",
    "\n",
    "argentina = pd.read_csv('argentina.csv')\n",
    "australia = pd.read_csv('australia.csv')\n",
    "england = pd.read_csv('england.csv')\n",
    "france = pd.read_csv('france.csv')\n",
    "georgia = pd.read_csv('georgia.csv')   \n",
    "ireland = pd.read_csv('ireland.csv')\n",
    "italy = pd.read_csv('italy.csv')  \n",
    "new_zealand = pd.read_csv('new-zealand.csv')\n",
    "scotland = pd.read_csv('scotland.csv')\n",
    "south_africa = pd.read_csv('south-africa.csv')\n",
    "wales = pd.read_csv('wales.csv')\n",
    "\n",
    "frames = [argentina, australia, england, france, ireland, italy, new_zealand,\n",
    "          scotland, south_africa, wales]\n",
    "combined = pd.concat(frames).reset_index(drop = True)\n",
    "\n",
    "\n",
    "combined['Height'] = combined['Height'].map(lambda x: x.strip('cm')).astype(int)\n",
    "combined['Weight'] = combined['Weight'].map(lambda x: x.strip('kg')).astype(int)\n",
    "combined[\"Mass\"] = (combined[\"Height\"]/100) * combined[\"Weight\"]\n",
    "\n",
    "#Create targets for the Linear Regressor to predict. The class to predict must be a number (0,1,2), not a string (Lock, Prop, Fly Half)\n",
    "combined[\"Target\"] = 3\n",
    "combined.Target[combined.Position == \"Lock\"] = 0\n",
    "combined.Target[combined.Position == \"Prop\"] = 1\n",
    "combined.Target[combined.Position == \"Fly Half\"] = 2\n",
    "\n",
    "combined.head()"
   ]
  },
  {
   "cell_type": "code",
   "execution_count": 3,
   "metadata": {
    "collapsed": false
   },
   "outputs": [
    {
     "data": {
      "text/html": [
       "<div style=\"max-height:1000px;max-width:1500px;overflow:auto;\">\n",
       "<table border=\"1\" class=\"dataframe\">\n",
       "  <thead>\n",
       "    <tr style=\"text-align: right;\">\n",
       "      <th></th>\n",
       "      <th>Age</th>\n",
       "      <th>Debut</th>\n",
       "      <th>Height</th>\n",
       "      <th>Matches</th>\n",
       "      <th>Name</th>\n",
       "      <th>Points_Scored</th>\n",
       "      <th>Position</th>\n",
       "      <th>Red_Cards</th>\n",
       "      <th>Tries_Scored</th>\n",
       "      <th>Weight</th>\n",
       "      <th>Yellow_Cards</th>\n",
       "      <th>﻿Name</th>\n",
       "      <th>Mass</th>\n",
       "      <th>Target</th>\n",
       "    </tr>\n",
       "  </thead>\n",
       "  <tbody>\n",
       "    <tr>\n",
       "      <th>0</th>\n",
       "      <td>23</td>\n",
       "      <td>17 May 2014</td>\n",
       "      <td>198</td>\n",
       "      <td>20</td>\n",
       "      <td>Matias Alemanno</td>\n",
       "      <td>10</td>\n",
       "      <td>Lock</td>\n",
       "      <td>0</td>\n",
       "      <td>2</td>\n",
       "      <td>112</td>\n",
       "      <td>0</td>\n",
       "      <td>NaN</td>\n",
       "      <td>221.76</td>\n",
       "      <td>0</td>\n",
       "    </tr>\n",
       "    <tr>\n",
       "      <th>1</th>\n",
       "      <td>32</td>\n",
       "      <td>04 Dec 2004</td>\n",
       "      <td>186</td>\n",
       "      <td>65</td>\n",
       "      <td>Marcos Ayerza</td>\n",
       "      <td>5</td>\n",
       "      <td>Prop</td>\n",
       "      <td>0</td>\n",
       "      <td>1</td>\n",
       "      <td>113</td>\n",
       "      <td>1</td>\n",
       "      <td>NaN</td>\n",
       "      <td>210.18</td>\n",
       "      <td>1</td>\n",
       "    </tr>\n",
       "    <tr>\n",
       "      <th>3</th>\n",
       "      <td>32</td>\n",
       "      <td>08 Nov 2008</td>\n",
       "      <td>190</td>\n",
       "      <td>20</td>\n",
       "      <td>Juan Pablo Orlandi</td>\n",
       "      <td>5</td>\n",
       "      <td>Prop</td>\n",
       "      <td>0</td>\n",
       "      <td>1</td>\n",
       "      <td>119</td>\n",
       "      <td>0</td>\n",
       "      <td>NaN</td>\n",
       "      <td>226.10</td>\n",
       "      <td>1</td>\n",
       "    </tr>\n",
       "    <tr>\n",
       "      <th>5</th>\n",
       "      <td>28</td>\n",
       "      <td>12 Jun 2010</td>\n",
       "      <td>203</td>\n",
       "      <td>25</td>\n",
       "      <td>Mariano Galarza</td>\n",
       "      <td>0</td>\n",
       "      <td>Lock</td>\n",
       "      <td>0</td>\n",
       "      <td>0</td>\n",
       "      <td>115</td>\n",
       "      <td>1</td>\n",
       "      <td>NaN</td>\n",
       "      <td>233.45</td>\n",
       "      <td>0</td>\n",
       "    </tr>\n",
       "    <tr>\n",
       "      <th>6</th>\n",
       "      <td>26</td>\n",
       "      <td>07 Jun 2014</td>\n",
       "      <td>191</td>\n",
       "      <td>20</td>\n",
       "      <td>Ramiro Herrera</td>\n",
       "      <td>0</td>\n",
       "      <td>Prop</td>\n",
       "      <td>0</td>\n",
       "      <td>0</td>\n",
       "      <td>130</td>\n",
       "      <td>1</td>\n",
       "      <td>NaN</td>\n",
       "      <td>248.30</td>\n",
       "      <td>1</td>\n",
       "    </tr>\n",
       "  </tbody>\n",
       "</table>\n",
       "</div>"
      ],
      "text/plain": [
       "   Age        Debut  Height  Matches                Name  Points_Scored  \\\n",
       "0   23  17 May 2014     198       20     Matias Alemanno             10   \n",
       "1   32  04 Dec 2004     186       65       Marcos Ayerza              5   \n",
       "3   32  08 Nov 2008     190       20  Juan Pablo Orlandi              5   \n",
       "5   28  12 Jun 2010     203       25     Mariano Galarza              0   \n",
       "6   26  07 Jun 2014     191       20      Ramiro Herrera              0   \n",
       "\n",
       "  Position  Red_Cards  Tries_Scored  Weight  Yellow_Cards ﻿Name    Mass  \\\n",
       "0     Lock          0             2     112             0   NaN  221.76   \n",
       "1     Prop          0             1     113             1   NaN  210.18   \n",
       "3     Prop          0             1     119             0   NaN  226.10   \n",
       "5     Lock          0             0     115             1   NaN  233.45   \n",
       "6     Prop          0             0     130             1   NaN  248.30   \n",
       "\n",
       "   Target  \n",
       "0       0  \n",
       "1       1  \n",
       "3       1  \n",
       "5       0  \n",
       "6       1  "
      ]
     },
     "execution_count": 3,
     "metadata": {},
     "output_type": "execute_result"
    }
   ],
   "source": [
    "#Take only those who have targets 0,1,2\n",
    "rugby_df = combined[combined.Target.isin([0,1,2])]\n",
    "rugby_df.head()"
   ]
  },
  {
   "cell_type": "code",
   "execution_count": 4,
   "metadata": {
    "collapsed": false
   },
   "outputs": [
    {
     "data": {
      "text/plain": [
       "array(['Fly Half', 'Lock', 'Prop'], dtype=object)"
      ]
     },
     "execution_count": 4,
     "metadata": {},
     "output_type": "execute_result"
    }
   ],
   "source": [
    "np.unique(rugby_df.Position)"
   ]
  },
  {
   "cell_type": "code",
   "execution_count": 5,
   "metadata": {
    "collapsed": false
   },
   "outputs": [
    {
     "name": "stdout",
     "output_type": "stream",
     "text": [
      "Populating the interactive namespace from numpy and matplotlib\n"
     ]
    },
    {
     "data": {
      "image/png": "[encoded data removed]",
      "text/plain": [
       "<matplotlib.figure.Figure at 0xb570390>"
      ]
     },
     "metadata": {},
     "output_type": "display_data"
    }
   ],
   "source": [
    "#Create a scatter plot of the 3 positions by height and weight\n",
    "\n",
    "import matplotlib.pyplot as plt\n",
    "%pylab inline\n",
    "\n",
    "positions = [\"Lock\", \"Prop\", \"Fly Half\"]\n",
    "com_colors = [\"green\", \"purple\", \"red\"]\n",
    "\n",
    "fig = plt.figure(figsize = (15,10))\n",
    "plt.subplot('111', axisbg='beige')\n",
    "\n",
    "for i in range(len(positions)):\n",
    "    plt.scatter(rugby_df.Weight[rugby_df.Position == positions[i]], \n",
    "                rugby_df.Height[rugby_df.Position == positions[i]], \n",
    "                c=com_colors[i], \n",
    "                marker = \"s\", \n",
    "                s=35, \n",
    "                label=positions[i])\n",
    "\n",
    "plt.title(\"Height and Weight by position\")    \n",
    "plt.xlabel(\"Weight(kg)\")\n",
    "plt.ylabel(\"Height(cm)\")\n",
    "#plt.bgcolor(\"beige\")\n",
    "\n",
    "plt.legend(loc='upper left');"
   ]
  },
  {
   "cell_type": "code",
   "execution_count": 6,
   "metadata": {
    "collapsed": false
   },
   "outputs": [
    {
     "data": {
      "image/png": "[encoded data removed]",
      "text/plain": [
       "<matplotlib.figure.Figure at 0x183f59b0>"
      ]
     },
     "metadata": {},
     "output_type": "display_data"
    }
   ],
   "source": [
    "#Much of the following block is taken from: http://scikit-learn.org/stable/auto_examples/linear_model/plot_iris_logistic.html\n",
    "\n",
    "from sklearn import linear_model\n",
    "from matplotlib.colors import ListedColormap\n",
    "\n",
    "features = pd.concat([rugby_df.Weight, rugby_df.Height], axis = 1) #using Height and Weight\n",
    "X = features.values  #convert X and Y to numpy.ndarrays\n",
    "Y = rugby_df.Target.values\n",
    "\n",
    "h = .02  # step size in the mesh\n",
    "\n",
    "logreg = linear_model.LogisticRegression(C=1e5)\n",
    "\n",
    "logreg.fit(X, Y)\n",
    "\n",
    "# Plot the decision boundary. For that, we will assign a color to each\n",
    "# point in the mesh [x_min, m_max]x[y_min, y_max].\n",
    "x_min, x_max = X[:, 0].min() - .5, X[:, 0].max() + .5\n",
    "y_min, y_max = X[:, 1].min() - .5, X[:, 1].max() + .5\n",
    "xx, yy = np.meshgrid(np.arange(x_min, x_max, h), np.arange(y_min, y_max, h))\n",
    "Z = logreg.predict(np.c_[xx.ravel(), yy.ravel()])\n",
    "\n",
    "# Put the result into a color plot\n",
    "Z = Z.reshape(xx.shape)\n",
    "plt.figure(1, figsize=(15, 10))\n",
    "cmap_colors = ListedColormap(com_colors)\n",
    "plt.pcolormesh(xx, yy, Z, cmap=cmap_colors)\n",
    "\n",
    "# Plot also the training points\n",
    "#plt.scatter(rugby_df.Weight, rugby_df.Height, c=Y, edgecolors='k', cmap=plt.cm.Paired)\n",
    "\n",
    "for i, color in zip(logreg.classes_, com_colors):\n",
    "    idx = np.where(Y == i)\n",
    "    plt.scatter(X[idx, 0], X[idx, 1], c=color, s=30) \n",
    "                #cmap=plt.cm.Paired)\n",
    "\n",
    "plt.xlabel('Weight')\n",
    "plt.ylabel('Height')\n",
    "\n",
    "plt.xlim(xx.min(), xx.max())\n",
    "plt.ylim(yy.min(), yy.max())\n",
    "\n",
    "plt.show()"
   ]
  },
  {
   "cell_type": "code",
   "execution_count": 7,
   "metadata": {
    "collapsed": false
   },
   "outputs": [
    {
     "name": "stdout",
     "output_type": "stream",
     "text": [
      "Fly Half\n"
     ]
    }
   ],
   "source": [
    "#Checking what position I would be put in\n",
    "#Weight, Height\n",
    "test = [85, 184]\n",
    "print positions[logreg.predict(test)]"
   ]
  },
  {
   "cell_type": "code",
   "execution_count": 8,
   "metadata": {
    "collapsed": false
   },
   "outputs": [
    {
     "data": {
      "text/plain": [
       "0.97560975609756095"
      ]
     },
     "execution_count": 8,
     "metadata": {},
     "output_type": "execute_result"
    }
   ],
   "source": [
    "pred = logreg.predict(X)\n",
    "logreg.score(X,Y)"
   ]
  }
 ],
 "metadata": {
  "kernelspec": {
   "display_name": "Python 2",
   "language": "python",
   "name": "python2"
  },
  "language_info": {
   "codemirror_mode": {
    "name": "ipython",
    "version": 2
   },
   "file_extension": ".py",
   "mimetype": "text/x-python",
   "name": "python",
   "nbconvert_exporter": "python",
   "pygments_lexer": "ipython2",
   "version": "2.7.8"
  }
 },
 "nbformat": 4,
 "nbformat_minor": 0
}
