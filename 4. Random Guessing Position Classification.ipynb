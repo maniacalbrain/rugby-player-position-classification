{
 "cells": [
  {
   "cell_type": "markdown",
   "metadata": {},
   "source": [
    "Predicting rugby player positions randomly"
   ]
  },
  {
   "cell_type": "code",
   "execution_count": 1,
   "metadata": {
    "collapsed": false
   },
   "outputs": [],
   "source": [
    "import pandas as pd\n",
    "import numpy as np"
   ]
  },
  {
   "cell_type": "code",
   "execution_count": 2,
   "metadata": {
    "collapsed": false
   },
   "outputs": [
    {
     "name": "stderr",
     "output_type": "stream",
     "text": [
      "C:\\Users\\maniacalbrain\\Anaconda\\lib\\site-packages\\IPython\\kernel\\__main__.py:22: SettingWithCopyWarning: \n",
      "A value is trying to be set on a copy of a slice from a DataFrame\n",
      "\n",
      "See the the caveats in the documentation: http://pandas.pydata.org/pandas-docs/stable/indexing.html#indexing-view-versus-copy\n"
     ]
    }
   ],
   "source": [
    "argentina = pd.read_csv('argentina.csv')\n",
    "australia = pd.read_csv('australia.csv')\n",
    "england = pd.read_csv('england.csv')\n",
    "france = pd.read_csv('france.csv')\n",
    "georgia = pd.read_csv('georgia.csv')   \n",
    "ireland = pd.read_csv('ireland.csv')\n",
    "italy = pd.read_csv('italy.csv')  \n",
    "new_zealand = pd.read_csv('new-zealand.csv')\n",
    "scotland = pd.read_csv('scotland.csv')\n",
    "south_africa = pd.read_csv('south-africa.csv')\n",
    "wales = pd.read_csv('wales.csv')\n",
    "\n",
    "frames = [argentina, australia, england, france, ireland, italy, new_zealand,\n",
    "          scotland, south_africa, wales]\n",
    "combined = pd.concat(frames).reset_index(drop = True)\n",
    "\n",
    "\n",
    "combined[\"Target\"] = 0\n",
    "\n",
    "combined = combined.copy()\n",
    "for i, position in enumerate(np.unique(combined[\"Position\"])):\n",
    "    combined[\"Target\"][combined[\"Position\"] == position] = i"
   ]
  },
  {
   "cell_type": "code",
   "execution_count": 3,
   "metadata": {
    "collapsed": false
   },
   "outputs": [],
   "source": [
    "target = combined.Target.values"
   ]
  },
  {
   "cell_type": "code",
   "execution_count": 4,
   "metadata": {
    "collapsed": false
   },
   "outputs": [
    {
     "name": "stdout",
     "output_type": "stream",
     "text": [
      "Accuracy:  0.111181818182\n",
      "Standard Deviation:  0.0176747213823\n"
     ]
    }
   ],
   "source": [
    "#calculate accuracy over 1000 iterations\n",
    "\n",
    "from sklearn.metrics import accuracy_score\n",
    "import random\n",
    "\n",
    "rand_guessing_acc = []\n",
    "iterations = 1000\n",
    "target_max_value = len(np.unique(combined.Position))-1 #8\n",
    "\n",
    "for i in range(iterations):\n",
    "    pred = []\n",
    "    for _ in range(len(combined)):\n",
    "        pred.append(random.randint(0,target_max_value))\n",
    "    pred = np.asarray(pred)\n",
    "    rand_guessing_acc.append(accuracy_score(target, pred))\n",
    "    \n",
    "print \"Accuracy: \", np.mean(rand_guessing_acc)\n",
    "print \"Standard Deviation: \", np.std(rand_guessing_acc)"
   ]
  },
  {
   "cell_type": "code",
   "execution_count": 5,
   "metadata": {
    "collapsed": false
   },
   "outputs": [
    {
     "name": "stdout",
     "output_type": "stream",
     "text": [
      "0.166666666667\n",
      "0.0636363636364\n"
     ]
    }
   ],
   "source": [
    "#Max score and minimum score calculated over the 1000 iterations\n",
    "\n",
    "print max(rand_guessing_acc)\n",
    "print min(rand_guessing_acc)"
   ]
  }
 ],
 "metadata": {
  "kernelspec": {
   "display_name": "Python 2",
   "language": "python",
   "name": "python2"
  },
  "language_info": {
   "codemirror_mode": {
    "name": "ipython",
    "version": 2
   },
   "file_extension": ".py",
   "mimetype": "text/x-python",
   "name": "python",
   "nbconvert_exporter": "python",
   "pygments_lexer": "ipython2",
   "version": "2.7.8"
  }
 },
 "nbformat": 4,
 "nbformat_minor": 0
}
