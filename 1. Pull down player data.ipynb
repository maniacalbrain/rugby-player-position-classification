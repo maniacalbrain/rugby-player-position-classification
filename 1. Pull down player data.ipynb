{
 "cells": [
  {
   "cell_type": "code",
   "execution_count": 1,
   "metadata": {
    "collapsed": false
   },
   "outputs": [],
   "source": [
    "#Ran on 2nd of November 2015\n",
    "from bs4 import BeautifulSoup\n",
    "import urllib2\n",
    "html = urllib2.urlopen('http://www.rugbyworldcup.com/teams').read()\n",
    "\n",
    "quarter_teams = ['argentina', 'australia', 'england', 'france', 'ireland', 'italy', 'new-zealand', 'scotland', 'south-africa', 'wales']\n",
    "squad_link = 'http://www.rugbyworldcup.com'\n",
    "\n",
    "for team in quarter_teams: #for each team in the quarter finals\n",
    "    f = open(\"%s.csv\" % team, 'w') #open a file for that country\n",
    "    f.write(\"Name,Position,Debut,Age,Height,Weight,Matches,Points_Scored,Tries_Scored,Yellow_Cards,Red_Cards\\n\")\n",
    "    \n",
    "    team_link = \"%s/%s/squad\" %(squad_link, team) #create link \n",
    "    team_html = urllib2.urlopen(team_link).read() #open link\n",
    "    soup = BeautifulSoup(team_html) #convert link to soup\n",
    "    \n",
    "    for team_tag in soup.find_all(\"ul\", {\"class\" : \"extrasmall-block-grid-1 small-block-grid-3 medium-block-grid-4 large-block-grid-5 teamSquad\"}): #main block containing all players\n",
    "        for li in team_tag.find_all('li'): #for each player in the main block\n",
    "            try:\n",
    "                player_link = \"%s%s\" % (squad_link, li.a['href']) #create player link\n",
    "                player_html = urllib2.urlopen(player_link).read() #open player link\n",
    "                player_soup = BeautifulSoup(player_html) #convert player link to html\n",
    "\n",
    "                player_data_string = \"\"\n",
    "\n",
    "                for player_data in player_soup.find_all(\"div\", {\"class\" : \"playerSummary\"}):\n",
    "                    player_data_string = player_data_string + player_data.find('h2').text.encode('utf8').replace(\",\", \"\")\n",
    "\n",
    "                for player_data in player_soup.find_all(\"div\", {\"class\" : \"playerStatsHeader\"}):\n",
    "                    for stat in player_data.find_all(\"div\", {\"class\" : \"stat\"}):\n",
    "                        player_data_string = player_data_string + \",\" + stat.find('h4', {\"class\" : \"info\"}).text.encode('utf8').replace(\",\", \"\") \n",
    "\n",
    "                for player_data in player_soup.find_all(\"div\", {\"class\" : \"playerInternationalStats\"}):\n",
    "                    for stat in player_data.find_all(\"div\", {\"class\" : \"stat\"}):\n",
    "                        player_data_string = player_data_string + \",\" + stat.find('h4', {\"class\" : \"info\"}).text.encode('utf8').replace(\",\", \"\")\n",
    "                player_data_string = player_data_string + \"\\n\"        \n",
    "                f.write(player_data_string) \n",
    "            except TypeError:\n",
    "                pass\n",
    "    \n",
    "    f.close()"
   ]
  },
  {
   "cell_type": "code",
   "execution_count": null,
   "metadata": {
    "collapsed": true
   },
   "outputs": [],
   "source": [
    "\"\"\"In case of emergency break glass\"\"\"\n",
    "f.close()"
   ]
  }
 ],
 "metadata": {
  "kernelspec": {
   "display_name": "Python 2",
   "language": "python",
   "name": "python2"
  },
  "language_info": {
   "codemirror_mode": {
    "name": "ipython",
    "version": 2
   },
   "file_extension": ".py",
   "mimetype": "text/x-python",
   "name": "python",
   "nbconvert_exporter": "python",
   "pygments_lexer": "ipython2",
   "version": "2.7.8"
  }
 },
 "nbformat": 4,
 "nbformat_minor": 0
}
